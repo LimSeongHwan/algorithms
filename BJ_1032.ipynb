{
 "cells": [
  {
   "cell_type": "code",
   "execution_count": 15,
   "id": "thermal-buyer",
   "metadata": {},
   "outputs": [
    {
     "name": "stdout",
     "output_type": "stream",
     "text": [
      "1\n",
      "ABABAB\n",
      "ABABAB\n"
     ]
    }
   ],
   "source": [
    "n = int(input())\n",
    "names = []\n",
    "res = []\n",
    "\n",
    "for _ in range(n):\n",
    "    names.append(input())\n",
    "    \n",
    "common_letter = list(names[0])\n",
    "\n",
    "for i in range(1, n):\n",
    "    \n",
    "    for j in range(len(common_letter)):\n",
    "        \n",
    "        if names[i][j] != common_letter[j]:\n",
    "            common_letter[j] = '?'\n",
    "            \n",
    "print(''.join(common_letter))"
   ]
  }
 ],
 "metadata": {
  "kernelspec": {
   "display_name": "Python 3",
   "language": "python",
   "name": "python3"
  },
  "language_info": {
   "codemirror_mode": {
    "name": "ipython",
    "version": 3
   },
   "file_extension": ".py",
   "mimetype": "text/x-python",
   "name": "python",
   "nbconvert_exporter": "python",
   "pygments_lexer": "ipython3",
   "version": "3.8.7"
  }
 },
 "nbformat": 4,
 "nbformat_minor": 5
}
