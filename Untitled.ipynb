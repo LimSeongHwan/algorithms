{
 "cells": [
  {
   "cell_type": "code",
   "execution_count": 39,
   "id": "contrary-granny",
   "metadata": {
    "scrolled": true
   },
   "outputs": [
    {
     "name": "stdout",
     "output_type": "stream",
     "text": [
      "5 2\n",
      "..\n",
      "..\n",
      "..\n",
      "..\n",
      "..\n",
      "1\n",
      "[[True, False], [False, False], [False, False], [False, False], [False, False]]\n",
      "[[True, False], [False, False], [False, False], [False, False], [False, False]]\n",
      "[[True, False], [False, False], [False, False], [False, False], [False, False]]\n",
      "[[True, True], [False, False], [False, False], [False, False], [False, False]]\n",
      "[[True, True], [True, False], [False, False], [False, False], [False, False]]\n",
      "[[True, True], [True, False], [False, False], [False, False], [False, False]]\n",
      "[[True, True], [True, False], [False, False], [False, False], [False, False]]\n",
      "[[True, True], [True, False], [False, False], [False, False], [False, False]]\n",
      "[[True, True], [True, False], [True, False], [False, False], [False, False]]\n",
      "[[True, True], [True, False], [True, False], [False, False], [False, False]]\n",
      "[[True, True], [True, False], [True, False], [False, False], [False, False]]\n",
      "[[True, True], [True, False], [True, False], [False, False], [False, False]]\n",
      "[[True, True], [True, False], [True, False], [True, False], [False, False]]\n",
      "[[True, True], [True, False], [True, False], [True, False], [False, False]]\n",
      "[[True, True], [True, False], [True, False], [True, False], [False, False]]\n",
      "[[True, True], [True, False], [True, False], [True, False], [False, False]]\n",
      "[[True, True], [True, False], [True, False], [True, False], [True, False]]\n",
      "[[True, True], [True, False], [True, False], [True, False], [True, False]]\n",
      "[[True, True], [True, False], [True, False], [True, False], [True, False]]\n",
      "[[True, True], [True, False], [True, False], [True, False], [True, False]]\n",
      "1\n",
      "[[True, True], [True, False], [True, False], [True, False], [True, False]]\n",
      "[[True, True], [True, False], [True, False], [True, False], [True, False]]\n",
      "[[True, True], [True, False], [True, False], [True, False], [True, False]]\n",
      "[[True, True], [True, True], [True, False], [True, False], [True, False]]\n",
      "[[True, True], [True, True], [True, False], [True, False], [True, False]]\n",
      "[[True, True], [True, True], [True, False], [True, False], [True, False]]\n",
      "[[True, True], [True, True], [True, False], [True, False], [True, False]]\n",
      "[[True, True], [True, True], [True, False], [True, False], [True, False]]\n",
      "[[True, True], [True, True], [True, True], [True, False], [True, False]]\n",
      "[[True, True], [True, True], [True, True], [True, False], [True, False]]\n",
      "[[True, True], [True, True], [True, True], [True, False], [True, False]]\n",
      "[[True, True], [True, True], [True, True], [True, False], [True, False]]\n",
      "[[True, True], [True, True], [True, True], [True, True], [True, False]]\n",
      "[[True, True], [True, True], [True, True], [True, True], [True, False]]\n",
      "[[True, True], [True, True], [True, True], [True, True], [True, False]]\n",
      "[[True, True], [True, True], [True, True], [True, True], [True, False]]\n",
      "[[True, True], [True, True], [True, True], [True, True], [True, True]]\n",
      "[[True, True], [True, True], [True, True], [True, True], [True, True]]\n",
      "[[True, True], [True, True], [True, True], [True, True], [True, True]]\n",
      "[[True, True], [True, True], [True, True], [True, True], [True, True]]\n"
     ]
    },
    {
     "data": {
      "text/plain": [
       "2"
      ]
     },
     "execution_count": 39,
     "metadata": {},
     "output_type": "execute_result"
    }
   ],
   "source": [
    "def solution(y, x):\n",
    "    \n",
    "    guard_area = [[False] * x for _ in range(y)]\n",
    "    castle_area = []\n",
    "    guard_count = 0\n",
    "    \n",
    "    \n",
    "    for _ in range(y):\n",
    "        castle_area.append(input())\n",
    "        \n",
    "    for i in range(y):\n",
    "        for j in range(x):\n",
    "            if castle_area[i][j] == 'X':\n",
    "                for k in range(y):\n",
    "                    for l in range(x):\n",
    "                        guard_area[k][j] = True\n",
    "                        guard_area[i][l] = True\n",
    "                        \n",
    "                    \n",
    "    for i in range(y):\n",
    "        for j in range(x):\n",
    "            if (not guard_area[i][j]):\n",
    "                guard_count += 1\n",
    "                \n",
    "                for k in range(y):\n",
    "                    for l in range(x):\n",
    "                        guard_area[k][j] = True\n",
    "                        guard_area[i][l] = True\n",
    "                        \n",
    "    return guard_count\n",
    "\n",
    "y, x = map(int, input().split())\n",
    "solution(y, x)"
   ]
  },
  {
   "cell_type": "code",
   "execution_count": null,
   "id": "graduate-funds",
   "metadata": {},
   "outputs": [],
   "source": []
  },
  {
   "cell_type": "code",
   "execution_count": 13,
   "id": "liquid-geneva",
   "metadata": {},
   "outputs": [
    {
     "name": "stdout",
     "output_type": "stream",
     "text": [
      "1\n",
      "ABABAB\n",
      "ABABAB\n"
     ]
    }
   ],
   "source": [
    "def solution(n):    \n",
    "    words = []\n",
    "    res = \"\"\n",
    "    same_flag = True\n",
    "    \n",
    "    for _ in range(n):\n",
    "        words.append(list(input()))\n",
    "        \n",
    "    for i in range(len(words[0])):\n",
    "        for j in range(1, len(words)):\n",
    "            if words[j-1][i] != words[j][i]:\n",
    "                same_flag = False\n",
    "                res += '?'\n",
    "                break\n",
    "            \n",
    "            same_flag = True\n",
    "            \n",
    "        if same_flag:    \n",
    "            res += words[0][i]\n",
    "                \n",
    "    return res\n",
    "\n",
    "n = int(input())\n",
    "print(solution(n))"
   ]
  }
 ],
 "metadata": {
  "kernelspec": {
   "display_name": "Python 3",
   "language": "python",
   "name": "python3"
  },
  "language_info": {
   "codemirror_mode": {
    "name": "ipython",
    "version": 3
   },
   "file_extension": ".py",
   "mimetype": "text/x-python",
   "name": "python",
   "nbconvert_exporter": "python",
   "pygments_lexer": "ipython3",
   "version": "3.8.7"
  }
 },
 "nbformat": 4,
 "nbformat_minor": 5
}
