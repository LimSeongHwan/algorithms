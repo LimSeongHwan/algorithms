{
 "cells": [
  {
   "cell_type": "code",
   "execution_count": 15,
   "id": "passing-grade",
   "metadata": {},
   "outputs": [
    {
     "name": "stdout",
     "output_type": "stream",
     "text": [
      "1231\n",
      "no\n",
      "0\n"
     ]
    }
   ],
   "source": [
    "while True:\n",
    "    num = input()\n",
    "    flag_val = True\n",
    "    \n",
    "    if num == '0':\n",
    "        break\n",
    "        \n",
    "    for i in range(len(num)):\n",
    "        if num[i] != num[(len(num)-1)-i]:\n",
    "            flag_val = False\n",
    "            \n",
    "    if flag_val:\n",
    "        print(\"yes\")\n",
    "        \n",
    "    else:\n",
    "        print(\"no\")"
   ]
  },
  {
   "cell_type": "code",
   "execution_count": null,
   "id": "distinct-container",
   "metadata": {},
   "outputs": [],
   "source": [
    "def solution(n):\n",
    "    student_class = []\n",
    "    leader = [[0, []] for _ in range(n)]\n",
    "    res = []\n",
    "    \n",
    "    for _ in range(n):\n",
    "        student_class.append(list(map(int, input().split())))\n",
    "    \n",
    "    for i in range(n):\n",
    "        for j in range(len(student_class[i])-1):\n",
    "            for k in range(j+1, n):\n",
    "                if student_class[j][i] == student_class[k][i]:\n",
    "                    if (k not in leader[j][1]):\n",
    "                        leader[j][0] += 1\n",
    "                        leader[k][0] += 1\n",
    "                        leader[j][1].append(k)\n",
    "                        leader[k][1].append(j)\n",
    "                    \n",
    "    for i in range(len(leader)):\n",
    "        if leader[i][0] == max(leader)[0]:\n",
    "            res.append(i+1)\n",
    "\n",
    "    return min(res)\n",
    "\n",
    "n = int(input())\n",
    "print(solution(n))"
   ]
  },
  {
   "cell_type": "code",
   "execution_count": 64,
   "id": "lesbian-oxford",
   "metadata": {},
   "outputs": [
    {
     "data": {
      "text/plain": [
       "[4, 1]"
      ]
     },
     "execution_count": 64,
     "metadata": {},
     "output_type": "execute_result"
    }
   ],
   "source": [
    "a = [[1,1], [2,2], [4,1]]\n",
    "max(a)"
   ]
  }
 ],
 "metadata": {
  "kernelspec": {
   "display_name": "Python 3",
   "language": "python",
   "name": "python3"
  },
  "language_info": {
   "codemirror_mode": {
    "name": "ipython",
    "version": 3
   },
   "file_extension": ".py",
   "mimetype": "text/x-python",
   "name": "python",
   "nbconvert_exporter": "python",
   "pygments_lexer": "ipython3",
   "version": "3.8.7"
  }
 },
 "nbformat": 4,
 "nbformat_minor": 5
}
