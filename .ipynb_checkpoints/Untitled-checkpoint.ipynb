{
 "cells": [
  {
   "cell_type": "code",
   "execution_count": 79,
   "id": "noted-upgrade",
   "metadata": {},
   "outputs": [
    {
     "name": "stdout",
     "output_type": "stream",
     "text": [
      "1001001 11001\n",
      "1100010\n"
     ]
    }
   ],
   "source": [
    "def solution(binary_num1, binary_num2):\n",
    "\n",
    "    if len(binary_num1) > len(binary_num2):\n",
    "        long_num = list(map(int, binary_num1))\n",
    "        short_num = list(map(int, binary_num2))\n",
    "    else:\n",
    "        long_num = list(map(int, binary_num2))\n",
    "        short_num = list(map(int, binary_num1))\n",
    "        \n",
    "    new_num = [0] * len(long_num)\n",
    "    res = []\n",
    "    \n",
    "    for i in range(-1, -len(short_num)-1, -1):\n",
    "        new_num[i] += long_num[i] + short_num[i]\n",
    "        \n",
    "    for i in range(len(long_num) - len(short_num)):\n",
    "        new_num[0] += long_num[i]\n",
    "        \n",
    "    for i in range(-1, -len(new_num)-1, -1):\n",
    "        if i == (-len(new_num)):\n",
    "            if new_num[i] >= 2:\n",
    "                new_num.insert(0, 1)\n",
    "                new_num[1] = new_num[i] % 2\n",
    "        \n",
    "        if new_num[i] >= 2:\n",
    "            new_num[i-1] += 1\n",
    "            new_num[i] = new_num[i] % 2\n",
    "                \n",
    "    while new_num[0] == 0:\n",
    "        if len(new_num) == 1:\n",
    "            break\n",
    "        new_num.pop(0)\n",
    "                \n",
    "    return ''.join(list(map(str, new_num)))\n",
    "\n",
    "binary_num1, binary_num2 = map(str, input().split())\n",
    "print(solution(binary_num1, binary_num2))"
   ]
  },
  {
   "cell_type": "code",
   "execution_count": 74,
   "id": "sound-grave",
   "metadata": {},
   "outputs": [
    {
     "name": "stdout",
     "output_type": "stream",
     "text": [
      "00 0\n"
     ]
    },
    {
     "ename": "IndexError",
     "evalue": "list index out of range",
     "output_type": "error",
     "traceback": [
      "\u001b[1;31m---------------------------------------------------------------------------\u001b[0m",
      "\u001b[1;31mIndexError\u001b[0m                                Traceback (most recent call last)",
      "\u001b[1;32m<ipython-input-74-e42a4627337b>\u001b[0m in \u001b[0;36m<module>\u001b[1;34m\u001b[0m\n\u001b[0;32m     38\u001b[0m \u001b[1;33m\u001b[0m\u001b[0m\n\u001b[0;32m     39\u001b[0m \u001b[0mnum\u001b[0m\u001b[1;33m,\u001b[0m \u001b[0mnum2\u001b[0m \u001b[1;33m=\u001b[0m \u001b[0mmap\u001b[0m\u001b[1;33m(\u001b[0m\u001b[0mlist\u001b[0m\u001b[1;33m,\u001b[0m \u001b[0minput\u001b[0m\u001b[1;33m(\u001b[0m\u001b[1;33m)\u001b[0m\u001b[1;33m.\u001b[0m\u001b[0msplit\u001b[0m\u001b[1;33m(\u001b[0m\u001b[1;33m)\u001b[0m\u001b[1;33m)\u001b[0m\u001b[1;33m\u001b[0m\u001b[1;33m\u001b[0m\u001b[0m\n\u001b[1;32m---> 40\u001b[1;33m \u001b[0mprint\u001b[0m\u001b[1;33m(\u001b[0m\u001b[0msolution\u001b[0m\u001b[1;33m(\u001b[0m\u001b[0mnum\u001b[0m\u001b[1;33m,\u001b[0m \u001b[0mnum2\u001b[0m\u001b[1;33m)\u001b[0m\u001b[1;33m)\u001b[0m\u001b[1;33m\u001b[0m\u001b[1;33m\u001b[0m\u001b[0m\n\u001b[0m",
      "\u001b[1;32m<ipython-input-74-e42a4627337b>\u001b[0m in \u001b[0;36msolution\u001b[1;34m(num, num2)\u001b[0m\n\u001b[0;32m     32\u001b[0m     \u001b[0mres\u001b[0m\u001b[1;33m.\u001b[0m\u001b[0mreverse\u001b[0m\u001b[1;33m(\u001b[0m\u001b[1;33m)\u001b[0m\u001b[1;33m\u001b[0m\u001b[1;33m\u001b[0m\u001b[0m\n\u001b[0;32m     33\u001b[0m \u001b[1;33m\u001b[0m\u001b[0m\n\u001b[1;32m---> 34\u001b[1;33m     \u001b[1;32mwhile\u001b[0m \u001b[0mres\u001b[0m\u001b[1;33m[\u001b[0m\u001b[1;36m0\u001b[0m\u001b[1;33m]\u001b[0m \u001b[1;33m!=\u001b[0m \u001b[1;36m1\u001b[0m\u001b[1;33m:\u001b[0m\u001b[1;33m\u001b[0m\u001b[1;33m\u001b[0m\u001b[0m\n\u001b[0m\u001b[0;32m     35\u001b[0m         \u001b[0mres\u001b[0m\u001b[1;33m.\u001b[0m\u001b[0mpop\u001b[0m\u001b[1;33m(\u001b[0m\u001b[1;36m0\u001b[0m\u001b[1;33m)\u001b[0m\u001b[1;33m\u001b[0m\u001b[1;33m\u001b[0m\u001b[0m\n\u001b[0;32m     36\u001b[0m \u001b[1;33m\u001b[0m\u001b[0m\n",
      "\u001b[1;31mIndexError\u001b[0m: list index out of range"
     ]
    }
   ],
   "source": [
    "def solution(num, num2):\n",
    "    num.reverse()\n",
    "    num2.reverse()\n",
    "    length = max(len(num), len(num2))\n",
    "    plus_val = 0\n",
    "    res = []\n",
    "\n",
    "    if len(num) < length:\n",
    "        for _ in range(length - len(num)):\n",
    "            num.append('0')\n",
    "\n",
    "    if len(num2) < length:\n",
    "        for _ in range(length - len(num2)):\n",
    "            num2.append('0')\n",
    "\n",
    "    for i in range(length):\n",
    "        sum_value = int(num[i]) + int(num2[i]) + plus_val\n",
    "        plus_val = 0\n",
    "\n",
    "        if sum_value == 2:\n",
    "            res.append(0)\n",
    "            plus_val = 1\n",
    "        elif sum_value == 3:\n",
    "            res.append(1)\n",
    "            plus_val = 1\n",
    "        else:\n",
    "            res.append(sum_value)\n",
    "\n",
    "    if plus_val == 1:\n",
    "        res.append(1)\n",
    "\n",
    "    res.reverse()\n",
    "\n",
    "    while res[0] != 1 and len(res) != 1:\n",
    "        res.pop(0)\n",
    "\n",
    "    return ''.join(list(map(str, res)))\n",
    "\n",
    "num, num2 = map(list, input().split())\n",
    "print(solution(num, num2))"
   ]
  },
  {
   "cell_type": "code",
   "execution_count": 75,
   "id": "after-healing",
   "metadata": {},
   "outputs": [
    {
     "name": "stdout",
     "output_type": "stream",
     "text": [
      "00 0\n",
      "0"
     ]
    }
   ],
   "source": [
    "num, num2 = map(list, input().split())\n",
    "num.reverse()\n",
    "num2.reverse()\n",
    "length = max(len(num), len(num2))\n",
    "plus_val = 0\n",
    "res = []\n",
    "\n",
    "if len(num) < length:\n",
    "    \n",
    "    for _ in range(length - len(num)):\n",
    "        num.append('0')\n",
    "        \n",
    "if len(num2) < length:\n",
    "    \n",
    "    for _ in range(length - len(num2)):\n",
    "        num2.append('0')\n",
    "        \n",
    "for i in range(length):\n",
    "    \n",
    "    sum_value = int(num[i]) + int(num2[i]) + plus_val\n",
    "    plus_val = 0\n",
    "    \n",
    "    if sum_value == 2:\n",
    "        res.append(0)\n",
    "        plus_val = 1\n",
    "        \n",
    "    elif sum_value == 3:\n",
    "        res.append(1)\n",
    "        plus_val = 1\n",
    "        \n",
    "    else:\n",
    "        res.append(sum_value)\n",
    "        \n",
    "if plus_val == 1:\n",
    "    res.append(1)\n",
    "    \n",
    "res.reverse()\n",
    "\n",
    "while res[0] != 1 and len(res) != 1:\n",
    "    \n",
    "    res.pop(0)\n",
    "\n",
    "for i in range(len(res)):\n",
    "    print(res[i], end = '')"
   ]
  },
  {
   "cell_type": "code",
   "execution_count": null,
   "id": "through-alloy",
   "metadata": {},
   "outputs": [],
   "source": []
  },
  {
   "cell_type": "code",
   "execution_count": 9,
   "id": "surface-sponsorship",
   "metadata": {},
   "outputs": [
    {
     "name": "stdout",
     "output_type": "stream",
     "text": [
      "2\n",
      "3 ABC\n",
      "AAABBBCCC\n",
      "5 /HTP\n",
      "/////HHHHHTTTTTPPPPP\n"
     ]
    }
   ],
   "source": [
    "for i in range(int(input())):\n",
    "    repeat, target = input().split()\n",
    "    \n",
    "    for alpha in target:\n",
    "        for _ in range(int(repeat)):\n",
    "            print(alpha, end = '')\n",
    "    print()"
   ]
  }
 ],
 "metadata": {
  "kernelspec": {
   "display_name": "Python 3",
   "language": "python",
   "name": "python3"
  },
  "language_info": {
   "codemirror_mode": {
    "name": "ipython",
    "version": 3
   },
   "file_extension": ".py",
   "mimetype": "text/x-python",
   "name": "python",
   "nbconvert_exporter": "python",
   "pygments_lexer": "ipython3",
   "version": "3.8.7"
  }
 },
 "nbformat": 4,
 "nbformat_minor": 5
}
