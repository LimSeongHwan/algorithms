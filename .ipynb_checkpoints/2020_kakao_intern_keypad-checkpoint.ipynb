{
 "cells": [
  {
   "cell_type": "code",
   "execution_count": 7,
   "id": "academic-italic",
   "metadata": {},
   "outputs": [],
   "source": [
    "def solution(numbers, hand):\n",
    "\n",
    "    def find_pos(number):\n",
    "        for i in range(len(phone_pos)):\n",
    "                for j in range(len(phone_pos[i])):\n",
    "                    if phone_pos[i][j] == number:\n",
    "                        return i, j\n",
    "    \n",
    "    answer = ''\n",
    "    phone_pos = [[1, 2, 3], [4, 5, 6], [7, 8, 9], ['*', 0, '#']]\n",
    "    l_pos = [3, 0]\n",
    "    r_pos = [3, 2]\n",
    "    num_pos = [0, 0]\n",
    "    l_num_distance = 0\n",
    "    r_num_distance = 0\n",
    "    \n",
    "    for num in numbers:\n",
    "        if num in [1, 4, 7]:\n",
    "            answer += 'L'\n",
    "            l_pos[0], l_pos[1] = find_pos(num)\n",
    "            \n",
    "        elif num in [3, 6, 9]:\n",
    "            answer += 'R'\n",
    "            r_pos[0], r_pos[1] = find_pos(num)\n",
    "            \n",
    "        else:\n",
    "            num_pos[0], num_pos[1] = find_pos(num)\n",
    "            l_num_distance = abs(num_pos[0] - l_pos[0]) + abs(num_pos[1] - l_pos[1])\n",
    "            r_num_distance = abs(num_pos[0] - r_pos[0]) + abs(num_pos[1] - r_pos[1])\n",
    "                        \n",
    "            if l_num_distance < r_num_distance:\n",
    "                answer += 'L'\n",
    "                l_pos = num_pos[:]\n",
    "\n",
    "            elif l_num_distance > r_num_distance:\n",
    "                answer += 'R'\n",
    "                r_pos = num_pos[:]\n",
    "\n",
    "            else:\n",
    "                if hand == 'left':\n",
    "                    answer += 'L'\n",
    "                    l_pos = num_pos[:]\n",
    "\n",
    "                else:\n",
    "                    answer += 'R'\n",
    "                    r_pos = num_pos[:]\n",
    "                                \n",
    "    return answer"
   ]
  },
  {
   "cell_type": "code",
   "execution_count": 8,
   "id": "third-damages",
   "metadata": {},
   "outputs": [
    {
     "data": {
      "text/plain": [
       "'LRLLRRLLLRR'"
      ]
     },
     "execution_count": 8,
     "metadata": {},
     "output_type": "execute_result"
    }
   ],
   "source": [
    "solution([7, 0, 8, 2, 8, 3, 1, 5, 7, 6, 2], \"left\")"
   ]
  }
 ],
 "metadata": {
  "kernelspec": {
   "display_name": "Python 3",
   "language": "python",
   "name": "python3"
  },
  "language_info": {
   "codemirror_mode": {
    "name": "ipython",
    "version": 3
   },
   "file_extension": ".py",
   "mimetype": "text/x-python",
   "name": "python",
   "nbconvert_exporter": "python",
   "pygments_lexer": "ipython3",
   "version": "3.8.7"
  }
 },
 "nbformat": 4,
 "nbformat_minor": 5
}
