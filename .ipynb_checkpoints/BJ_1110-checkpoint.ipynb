{
 "cells": [
  {
   "cell_type": "code",
   "execution_count": 13,
   "id": "attempted-marketplace",
   "metadata": {},
   "outputs": [
    {
     "name": "stdout",
     "output_type": "stream",
     "text": [
      "26\n",
      "4\n"
     ]
    }
   ],
   "source": [
    "def solution(num):\n",
    "    if num < 10:\n",
    "        str_num = str(num) + str(0)\n",
    "    \n",
    "    else:\n",
    "        str_num = str(num)\n",
    "        \n",
    "    cycle_val = 0\n",
    "    new_num = \"\"\n",
    "    temp_num = str_num[:]\n",
    "    \n",
    "    while new_num != str_num:\n",
    "        sum_num = int(temp_num[0]) + int(temp_num[1])\n",
    "        new_num = temp_num[-1] + str(int(temp_num[0]) + int(temp_num[1]))[-1]\n",
    "        cycle_val += 1\n",
    "        temp_num = new_num[:]\n",
    "        \n",
    "    return cycle_val\n",
    "    \n",
    "num = int(input())\n",
    "print(solution(num))"
   ]
  }
 ],
 "metadata": {
  "kernelspec": {
   "display_name": "Python 3",
   "language": "python",
   "name": "python3"
  },
  "language_info": {
   "codemirror_mode": {
    "name": "ipython",
    "version": 3
   },
   "file_extension": ".py",
   "mimetype": "text/x-python",
   "name": "python",
   "nbconvert_exporter": "python",
   "pygments_lexer": "ipython3",
   "version": "3.8.7"
  }
 },
 "nbformat": 4,
 "nbformat_minor": 5
}
